{
 "cells": [
  {
   "cell_type": "markdown",
   "metadata": {},
   "source": [
    "## WeatherPy"
   ]
  },
  {
   "cell_type": "code",
   "execution_count": null,
   "metadata": {},
   "outputs": [],
   "source": [
    "# Dependencies and Setup\n",
    "import matplotlib.pyplot as plt\n",
    "import pandas as pd\n",
    "import numpy as np\n",
    "import requests\n",
    "import time\n",
    "from scipy.stats import linregress\n",
    "\n",
    "# Import API key\n",
    "from config import weather_api_key\n",
    "\n",
    "# Incorporated citipy to determine city based on latitude and longitude\n",
    "from citipy import citipy\n",
    "\n",
    "# Output File (CSV)\n",
    "output_data_file = \"Output/cities.csv\"\n",
    "\n",
    "# Range of latitudes and longitudes\n",
    "lat_range = (-90, 90)\n",
    "lng_range = (-180, 180)"
   ]
  },
  {
   "cell_type": "markdown",
   "metadata": {},
   "source": [
    "## Generate Cities List"
   ]
  },
  {
   "cell_type": "code",
   "execution_count": null,
   "metadata": {},
   "outputs": [],
   "source": [
    "# List for holding lat_lngs and cities\n",
    "lat_lngs = []\n",
    "cities = []\n",
    "\n",
    "# Create a set of random lat and lng combinations\n",
    "lats = np.random.uniform(lat_range[0], lat_range[1], size=1500)\n",
    "lngs = np.random.uniform(lng_range[0], lng_range[1], size=1500)\n",
    "lat_lngs = zip(lats, lngs)\n",
    "\n",
    "# Identify nearest city for each lat, lng combination\n",
    "for lat_lng in lat_lngs:\n",
    "    city = citipy.nearest_city(lat_lng[0], lat_lng[1]).city_name\n",
    "    \n",
    "    # If the city is unique, then add it to a our cities list\n",
    "    if city not in cities:\n",
    "        cities.append(city)\n",
    "\n",
    "# Print the city count to confirm sufficient count\n",
    "len(cities)"
   ]
  },
  {
   "cell_type": "markdown",
   "metadata": {},
   "source": [
    "## Perform API Calls"
   ]
  },
  {
   "cell_type": "code",
   "execution_count": null,
   "metadata": {},
   "outputs": [],
   "source": [
    "# Using the Open Weather API gather information about the weather of the cities\n",
    "\n",
    "# Set up list for data frame\n",
    "loc = []\n",
    "lat = []\n",
    "lng = []\n",
    "max_temp = []\n",
    "hum = []\n",
    "cloud = []\n",
    "wind = []\n",
    "country = []\n",
    "date = []\n",
    "\n",
    "# Url of Open Weather API\n",
    "url = \"http://api.openweathermap.org/data/2.5/weather?\"\n",
    "units = \"imperial\"\n",
    "\n",
    "record = 0\n",
    "sets = 1\n",
    "\n",
    "\n",
    "print(\"Beginning Data Retrival\")\n",
    "print( \"-\" * 29)\n",
    "\n",
    "# Time delay to not past the limit on the weather API\n",
    "time.sleep(1)\n",
    "\n",
    "# For Loop to read through the weather json and retrieve information for data frame\n",
    "for place in cities:\n",
    "    \n",
    "    query_url = f\"{url}appid={weather_api_key}&q={place}&units={units}\"\n",
    "    weather_response = requests.get(query_url)\n",
    "    weather_json = weather_response.json()\n",
    "    \n",
    "    # Using Try/Except to ensure that if the random cities can't be found on the json the code wont crash\n",
    "    try:\n",
    "        loc.append(weather_json[\"name\"])\n",
    "        lat.append(weather_json[\"coord\"][\"lat\"])\n",
    "        lng.append(weather_json[\"coord\"][\"lon\"])\n",
    "        max_temp.append(weather_json[\"main\"][\"temp_max\"])\n",
    "        hum.append(weather_json[\"main\"][\"humidity\"])\n",
    "        cloud.append(weather_json[\"clouds\"][\"all\"])\n",
    "        wind.append(weather_json[\"wind\"][\"speed\"])\n",
    "        country.append(weather_json[\"sys\"][\"country\"])\n",
    "        date.append(weather_json[\"dt\"])\n",
    "        \n",
    "        # If/else statement to get processing record and set numbers\n",
    "        if record < 49:\n",
    "            record += 1\n",
    "        \n",
    "        else:\n",
    "            record = 0\n",
    "            sets += 1\n",
    "        \n",
    "        print(f\"Processing Record of {record} of Set {sets} | {place}\")\n",
    "    except:\n",
    "        print(f\"City not found. Skipping ... \")"
   ]
  },
  {
   "cell_type": "code",
   "execution_count": null,
   "metadata": {},
   "outputs": [],
   "source": [
    "# Create a DataFrame for the random cities\n",
    "weather_dict = {'City': loc,\n",
    "                'Lat': lat,\n",
    "                'Lng': lng,\n",
    "                'Max Temp': max_temp,\n",
    "                'Humidity': hum,\n",
    "                'Cloudiness': cloud,\n",
    "                'Wind Speed': wind,\n",
    "                'Country': country,\n",
    "                'Date': date}\n",
    "\n",
    "city_Weather = pd.DataFrame.from_dict(weather_dict, orient = \"index\")\n",
    "city_Weather = city_Weather.transpose()\n",
    "city_Weather"
   ]
  },
  {
   "cell_type": "code",
   "execution_count": null,
   "metadata": {},
   "outputs": [],
   "source": [
    "# Cleaning the data frame to only have humidity less than or equal to 100%\n",
    "city_Weather[\"Humidity\"].max()\n",
    "\n",
    "city_Weather = city_Weather.loc[city_Weather[\"Humidity\"] <= 100, :]"
   ]
  },
  {
   "cell_type": "markdown",
   "metadata": {},
   "source": [
    "## Convert Raw Data to DataFrame"
   ]
  },
  {
   "cell_type": "code",
   "execution_count": null,
   "metadata": {},
   "outputs": [],
   "source": [
    "# Export the city weather dat to a csv\n",
    "city_Weather.to_csv(output_data_file)\n",
    "\n",
    "# View the dataframe\n",
    "city_Weather.head()"
   ]
  },
  {
   "cell_type": "markdown",
   "metadata": {},
   "source": [
    "## Plotting the Data"
   ]
  },
  {
   "cell_type": "markdown",
   "metadata": {},
   "source": [
    "### Temperature vs. Latitude"
   ]
  },
  {
   "cell_type": "code",
   "execution_count": null,
   "metadata": {},
   "outputs": [],
   "source": [
    "# Scatter plot of temp vs latitude of the cities\n",
    "\n",
    "plt.scatter(lat,max_temp, marker = \"o\", edgecolor = \"black\")\n",
    "\n",
    "plt.title(\"Maximum Temperature (2/12/2021) vs Latitude\")\n",
    "plt.xlabel(\"Latitude\")\n",
    "plt.ylabel(\"Temperature (F)\")\n",
    "plt.grid(True)\n",
    "\n",
    "plt.show()"
   ]
  },
  {
   "cell_type": "markdown",
   "metadata": {},
   "source": [
    "This scatter plot displays the relationship between\n",
    "a city's maximum temperature and a city's latitude in February. \n",
    "This displays how the city's latitude, distance from the equator, affects\n",
    "a city's maximum temperature."
   ]
  },
  {
   "cell_type": "markdown",
   "metadata": {},
   "source": [
    "### Humidity vs. Latitude"
   ]
  },
  {
   "cell_type": "code",
   "execution_count": null,
   "metadata": {},
   "outputs": [],
   "source": [
    "# Scatter plot of humidity vs latitude of the cities\n",
    "\n",
    "plt.scatter(lat,hum, marker = \"o\", edgecolor = \"black\")\n",
    "\n",
    "plt.title(\"Humidity (2/12/2021) vs Latitude\")\n",
    "plt.xlabel(\"Latitude\")\n",
    "plt.ylabel(\"Humidity %\")\n",
    "plt.grid(True)\n",
    "plt.show()"
   ]
  },
  {
   "cell_type": "markdown",
   "metadata": {},
   "source": [
    "This scatter plot displays the relationship between a city's \n",
    "humidity and a city's latitude in February. \n",
    "This displays how the city's latitude, distance from the equator, \n",
    "affects a city's humidity."
   ]
  },
  {
   "cell_type": "markdown",
   "metadata": {},
   "source": [
    "### Cloudiness vs. Latitude"
   ]
  },
  {
   "cell_type": "code",
   "execution_count": null,
   "metadata": {},
   "outputs": [],
   "source": [
    "# Scatter plot of cloudiness vs latitude of the cities\n",
    "\n",
    "plt.scatter(lat,cloud, marker = \"o\", edgecolor = \"black\")\n",
    "\n",
    "plt.title(\"Cloudiness (2/12/2021) vs Latitude\")\n",
    "plt.xlabel(\"Latitude\")\n",
    "plt.ylabel(\"Cloudiness %\")\n",
    "plt.grid(True)\n",
    "plt.show()"
   ]
  },
  {
   "cell_type": "markdown",
   "metadata": {},
   "source": [
    "This scatter plot displays the relationship between a city's cloudiness, sky coverage of clouds, and a city's latitude in February. This displays how the city's latitude, distance from the equator, affects a city's cloudiness."
   ]
  },
  {
   "cell_type": "markdown",
   "metadata": {},
   "source": [
    "### Wind Speed vs. Latitude"
   ]
  },
  {
   "cell_type": "code",
   "execution_count": null,
   "metadata": {},
   "outputs": [],
   "source": [
    "# Scatter plot of cloudiness vs latitude of the cities\n",
    "\n",
    "plt.scatter(lat,wind, marker = \"o\", edgecolor = \"black\")\n",
    "\n",
    "plt.title(\"Wind Speed (2/12/2021) vs Latitude\")\n",
    "plt.xlabel(\"Latitude\")\n",
    "plt.ylabel(\"Wind Speed (mph)\")\n",
    "plt.grid(True)\n",
    "plt.show()"
   ]
  },
  {
   "cell_type": "markdown",
   "metadata": {},
   "source": [
    "This scatter plot displays the relationship between a city's wind speed and a city's latitude in February. This displays how the city's latitude, distance from the equator, affects a city's wind speed."
   ]
  },
  {
   "cell_type": "markdown",
   "metadata": {},
   "source": [
    "## Linear Regression"
   ]
  },
  {
   "cell_type": "code",
   "execution_count": null,
   "metadata": {},
   "outputs": [],
   "source": [
    "# Splitting the data frame based on the northern and southern hemisphere\n",
    "northern_hemisphere = city_Weather.loc[city_Weather[\"Lat\"] >= 0, :]\n",
    "southern_hemisphere = city_Weather.loc[city_Weather[\"Lat\"] <= 0, :]\n",
    "\n",
    "# Creating variables for graphs\n",
    "n_lat = northern_hemisphere[\"Lat\"].astype(float)\n",
    "n_temp = northern_hemisphere[\"Max Temp\"].astype(float)\n",
    "n_hum = northern_hemisphere[\"Humidity\"].astype(float)\n",
    "n_cloud = northern_hemisphere[\"Cloudiness\"].astype(float)\n",
    "n_wind = northern_hemisphere[\"Wind Speed\"].astype(float)\n",
    "\n",
    "s_lat = southern_hemisphere[\"Lat\"].astype(float)\n",
    "s_temp = southern_hemisphere[\"Max Temp\"].astype(float)\n",
    "s_hum = southern_hemisphere[\"Humidity\"].astype(float)\n",
    "s_cloud = southern_hemisphere[\"Cloudiness\"].astype(float)\n",
    "s_wind = southern_hemisphere[\"Wind Speed\"].astype(float)"
   ]
  },
  {
   "cell_type": "markdown",
   "metadata": {},
   "source": [
    "#### Northern Hemisphere - Temperature vs. Latitude"
   ]
  },
  {
   "cell_type": "code",
   "execution_count": null,
   "metadata": {},
   "outputs": [],
   "source": [
    "# Scatter plot of temperature vs latitude of the cities\n",
    "\n",
    "plt.scatter(n_lat,n_temp, marker = \"o\")\n",
    "\n",
    "plt.title(\"Maximum Temperature (2/12/2021) vs Latitude\")\n",
    "plt.xlabel(\"Latitude\")\n",
    "plt.ylabel(\"Temperature (F)\")\n",
    "\n",
    "# Linear regression of N. Hemi Temperature vs Latitude\n",
    "(slope, intercept, rvalue, pvalue, stderr) = linregress(n_lat, n_temp)\n",
    "\n",
    "# creating linear regression line\n",
    "regress_line = slope * n_lat + intercept\n",
    "\n",
    "line_eq = f'y = {slope:.2f}x + {intercept:.2f}'\n",
    "\n",
    "plt.plot(n_lat, regress_line, color = \"red\")\n",
    "plt.annotate(line_eq, (5,-30), color = \"red\", fontsize = 15)\n",
    "plt.show()\n",
    "\n",
    "# printing r value\n",
    "print(f'The r value is {rvalue}')"
   ]
  },
  {
   "cell_type": "markdown",
   "metadata": {},
   "source": [
    "With a -0.87858 r value, there is a strong negative correlation between the Maximum Temperature and a city's Latitude in the Northern Hemisphere. Therefore it's confident to say, as the latitude increases the maximum temperature in a city in the Northern Hemisphere during February the temperature decreases."
   ]
  },
  {
   "cell_type": "markdown",
   "metadata": {},
   "source": [
    "#### Southern Hemisphere - Temperature vs. Latitude"
   ]
  },
  {
   "cell_type": "code",
   "execution_count": null,
   "metadata": {},
   "outputs": [],
   "source": [
    "# Scatter plot of temperature vs latitude of the cities\n",
    "\n",
    "plt.scatter(s_lat,s_temp, marker = \"o\")\n",
    "\n",
    "plt.title(\"Maximum Temperature (2/12/2021) vs Latitude\")\n",
    "plt.xlabel(\"Latitude\")\n",
    "plt.ylabel(\"Temperature (F)\")\n",
    "\n",
    "# Linear regression of S. Hemi Temperature vs Latitude\n",
    "(slope, intercept, rvalue, pvalue, stderr) = linregress(s_lat, s_temp)\n",
    "\n",
    "# creating linear regression line\n",
    "regress_line = slope * s_lat + intercept\n",
    "\n",
    "line_eq = f'y = {slope:.2f}x + {intercept:.2f}'\n",
    "\n",
    "plt.plot(s_lat, regress_line, color = \"red\")\n",
    "plt.annotate(line_eq, (-55,90), color = \"red\", fontsize = 15)\n",
    "plt.show()\n",
    "\n",
    "# printing r value\n",
    "print(f'The r value is {rvalue}')"
   ]
  },
  {
   "cell_type": "markdown",
   "metadata": {},
   "source": [
    "With a 0.45053 r value, there is a moderate positive correlation between the Maximum Temperature and a city's Latitude in the Southern Hemisphere. Therefore, as the latitude increases the maximum temperature in a city in the Southern Hemisphere during February the temperature increases."
   ]
  },
  {
   "cell_type": "markdown",
   "metadata": {},
   "source": [
    "#### Northern Hemisphere - Humidity vs. Latitude"
   ]
  },
  {
   "cell_type": "code",
   "execution_count": null,
   "metadata": {},
   "outputs": [],
   "source": [
    "# Scatter plot of temperature vs latitude of the cities\n",
    "\n",
    "plt.scatter(n_lat,n_hum, marker = \"o\")\n",
    "\n",
    "plt.title(\"Humidity (2/12/2021) vs Latitude\")\n",
    "plt.xlabel(\"Latitude\")\n",
    "plt.ylabel(\"Humidity %\")\n",
    "\n",
    "# Linear regression of N. Hemi Humidity vs Latitude\n",
    "(slope, intercept, rvalue, pvalue, stderr) = linregress(n_lat, n_hum)\n",
    "\n",
    "# creating linear regression line\n",
    "regress_line = slope * n_lat + intercept\n",
    "\n",
    "line_eq = f'y = {slope:.2f}x + {intercept:.2f}'\n",
    "\n",
    "plt.plot(n_lat, regress_line, color = \"red\")\n",
    "plt.annotate(line_eq, (45,10), color = \"red\", fontsize = 15)\n",
    "plt.show()\n",
    "\n",
    "# printing r value\n",
    "print(f'The r value is {rvalue}')"
   ]
  },
  {
   "cell_type": "markdown",
   "metadata": {},
   "source": [
    "With a 0.1994 r value, there is a weak positive correlation between the Humidity percentage and a city's Latitude in the Northern Hemisphere. Therefore it's not confident to say, as the latitude increases the humidity in a city in the Northern Hemisphere during February the humidity increases."
   ]
  },
  {
   "cell_type": "markdown",
   "metadata": {},
   "source": [
    "#### Southern Hemisphere - Humidity vs. Latitude"
   ]
  },
  {
   "cell_type": "code",
   "execution_count": null,
   "metadata": {},
   "outputs": [],
   "source": [
    "# Scatter plot of temperature vs latitude of the cities\n",
    "\n",
    "plt.scatter(s_lat,s_hum, marker = \"o\")\n",
    "\n",
    "plt.title(\"Humidity (2/12/2021) vs Latitude\")\n",
    "plt.xlabel(\"Latitude\")\n",
    "plt.ylabel(\"Humidity %\")\n",
    "\n",
    "# Linear regression of S. Hemi Humidity vs Latitude\n",
    "(slope, intercept, rvalue, pvalue, stderr) = linregress(s_lat, s_hum)\n",
    "\n",
    "# creating linear regression line\n",
    "regress_line = slope * s_lat + intercept\n",
    "\n",
    "line_eq = f'y = {slope:.2f}x + {intercept:.2f}'\n",
    "\n",
    "plt.plot(s_lat, regress_line, color = \"red\")\n",
    "plt.annotate(line_eq, (-25,35), color = \"red\", fontsize = 15)\n",
    "plt.show()\n",
    "\n",
    "# printing r value\n",
    "print(f'The r value is {rvalue}')"
   ]
  },
  {
   "cell_type": "markdown",
   "metadata": {},
   "source": [
    "With a 0.4013 r value, there is a moderate correlation between the Humidity percentage and a city's Latitude in the Southern Hemisphere. Therefore, as the latitude increases the humidity in a city in the Southern Hemisphere during February the humidity increases."
   ]
  },
  {
   "cell_type": "markdown",
   "metadata": {},
   "source": [
    "#### Northern Hemisphere - Cloudiness vs. Latitude"
   ]
  },
  {
   "cell_type": "code",
   "execution_count": null,
   "metadata": {},
   "outputs": [],
   "source": [
    "# Scatter plot of temperature vs latitude of the cities\n",
    "\n",
    "plt.scatter(n_lat,n_cloud, marker = \"o\")\n",
    "\n",
    "plt.title(\"Cloudiness (2/12/2021) vs Latitude\")\n",
    "plt.xlabel(\"Latitude\")\n",
    "plt.ylabel(\"Cloudiness %\")\n",
    "\n",
    "# Linear regression of N. Hemi Cloudiness vs Latitude\n",
    "(slope, intercept, rvalue, pvalue, stderr) = linregress(n_lat, n_cloud)\n",
    "\n",
    "# creating linear regression line\n",
    "regress_line = slope * n_lat + intercept\n",
    "\n",
    "line_eq = f'y = {slope:.2f}x + {intercept:.2f}'\n",
    "\n",
    "plt.plot(n_lat, regress_line, color = \"red\")\n",
    "plt.annotate(line_eq, (45,10), color = \"red\", fontsize = 15)\n",
    "plt.show()\n",
    "\n",
    "# printing r value\n",
    "print(f'The r value is {rvalue}')"
   ]
  },
  {
   "cell_type": "markdown",
   "metadata": {},
   "source": [
    "With a 0.2285 r value, there is a weak positive correlation between the Cloudiness percentage and a city's Latitude in the Northern Hemisphere. Therefore it's not confident to say, as the latitude increases the cloudiness in a city in the Northern Hemisphere during February the cloudiness increases."
   ]
  },
  {
   "cell_type": "markdown",
   "metadata": {},
   "source": [
    "#### Southern Hemisphere - Cloudiness vs. Latitude"
   ]
  },
  {
   "cell_type": "code",
   "execution_count": null,
   "metadata": {},
   "outputs": [],
   "source": [
    "# Scatter plot of temperature vs latitude of the cities\n",
    "\n",
    "plt.scatter(s_lat,s_cloud, marker = \"o\")\n",
    "\n",
    "plt.title(\"Cloudiness (2/12/2021) vs Latitude\")\n",
    "plt.xlabel(\"Latitude\")\n",
    "plt.ylabel(\"Cloudiness %\")\n",
    "\n",
    "# Linear regression of S. Hemi Cloudiness vs Latitude\n",
    "(slope, intercept, rvalue, pvalue, stderr) = linregress(s_lat, s_cloud)\n",
    "\n",
    "# creating linear regression line\n",
    "regress_line = slope * s_lat + intercept\n",
    "\n",
    "line_eq = f'y = {slope:.2f}x + {intercept:.2f}'\n",
    "\n",
    "plt.plot(s_lat, regress_line, color = \"red\")\n",
    "plt.annotate(line_eq, (-55,10), color = \"red\", fontsize = 15)\n",
    "plt.show()\n",
    "\n",
    "# printing r value\n",
    "print(f'The r value is {rvalue}')"
   ]
  },
  {
   "cell_type": "markdown",
   "metadata": {},
   "source": [
    "With a 0.2449 r value, there is a weak positive correlation between the Cloudiness percentage and a city's Latitude in the Southern Hemisphere. Therefore it's not confident to say, as the latitude increases the cloudiness in a city in the Southern Hemisphere during February the cloudiness increases."
   ]
  },
  {
   "cell_type": "markdown",
   "metadata": {},
   "source": [
    "#### Northern Hemisphere - Wind Speed vs. Latitude"
   ]
  },
  {
   "cell_type": "code",
   "execution_count": null,
   "metadata": {},
   "outputs": [],
   "source": [
    "# Scatter plot of temperature vs latitude of the cities\n",
    "\n",
    "plt.scatter(n_lat,n_wind, marker = \"o\")\n",
    "\n",
    "plt.title(\"Wind Speed (2/12/2021) vs Latitude\")\n",
    "plt.xlabel(\"Latitude\")\n",
    "plt.ylabel(\"Wind Speed (mph)\")\n",
    "\n",
    "# Linear regression of N. Hemi Wind Speed vs Latitude\n",
    "(slope, intercept, rvalue, pvalue, stderr) = linregress(n_lat, n_wind)\n",
    "\n",
    "# creating linear regression line\n",
    "regress_line = slope * n_lat + intercept\n",
    "\n",
    "line_eq = f'y = {slope:.2f}x + {intercept:.2f}'\n",
    "\n",
    "plt.plot(n_lat, regress_line, color = \"red\")\n",
    "plt.annotate(line_eq, (5,35), color = \"red\", fontsize = 15)\n",
    "plt.show()\n",
    "\n",
    "# printing r value\n",
    "print(f'The r value is {rvalue}')"
   ]
  },
  {
   "cell_type": "markdown",
   "metadata": {},
   "source": [
    "With a 0.04457 r value, there is a no correlation between the Wind Speed percentage and a city's Latitude in the Northern Hemisphere. Therefore it's not confident to say, as the latitude increases the wind speed in a city in the Northern Hemisphere during February the wind speed increases."
   ]
  },
  {
   "cell_type": "markdown",
   "metadata": {},
   "source": [
    "#### Southern Hemisphere - Wind Speed vs. Latitude"
   ]
  },
  {
   "cell_type": "code",
   "execution_count": null,
   "metadata": {},
   "outputs": [],
   "source": [
    "# Scatter plot of temperature vs latitude of the cities\n",
    "\n",
    "plt.scatter(s_lat,s_wind, marker = \"o\")\n",
    "\n",
    "plt.title(\"Wind Speed (2/12/2021) vs Latitude\")\n",
    "plt.xlabel(\"Latitude\")\n",
    "plt.ylabel(\"Wind Speed (mph)\")\n",
    "\n",
    "# Linear regression of S. Hemi Wind Speed vs Latitude\n",
    "(slope, intercept, rvalue, pvalue, stderr) = linregress(s_lat, s_wind)\n",
    "\n",
    "# creating linear regression line\n",
    "regress_line = slope * s_lat + intercept\n",
    "\n",
    "line_eq = f'y = {slope:.2f}x + {intercept:.2f}'\n",
    "\n",
    "plt.plot(s_lat, regress_line, color = \"red\")\n",
    "plt.annotate(line_eq, (-55,20), color = \"red\", fontsize = 15)\n",
    "plt.show()\n",
    "\n",
    "# printing r value\n",
    "print(f'The r value is {rvalue}')"
   ]
  },
  {
   "cell_type": "markdown",
   "metadata": {},
   "source": [
    "With a -0.1610 r value, there is a weak negative correlation between the Wind Speed percentage and a city's Latitude in the Southern Hemisphere. Therefore it's not confident to say, as the latitude increases the wind speed in a city in the Southern Hemisphere during February the wind speed decreases."
   ]
  },
  {
   "cell_type": "markdown",
   "metadata": {},
   "source": [
    "## Observable Trends"
   ]
  },
  {
   "cell_type": "markdown",
   "metadata": {},
   "source": [
    "1. There is a correlation between the Maximum Temperature and the City's Latitude; in the Northern Hemisphere the strong correlation is negative meaning it can be predicted that as the latitude gets further north from the equator the temperature is expected to have a lower max temperature. \n",
    "\n",
    "2. Cloudiness as a weak correlation with Latitude; therefore, it can not be predicted what the cloud percentage may be based on a city's latitude.\n",
    "\n",
    "3. In the Northern Hemisphere, the wind speed has no correlation with the city's latitude; therefore, wind speed can not be predicted based on the city's latitude."
   ]
  },
  {
   "cell_type": "code",
   "execution_count": null,
   "metadata": {},
   "outputs": [],
   "source": []
  }
 ],
 "metadata": {
  "kernelspec": {
   "display_name": "Python 3",
   "language": "python",
   "name": "python3"
  },
  "language_info": {
   "codemirror_mode": {
    "name": "ipython",
    "version": 3
   },
   "file_extension": ".py",
   "mimetype": "text/x-python",
   "name": "python",
   "nbconvert_exporter": "python",
   "pygments_lexer": "ipython3",
   "version": "3.6.10"
  }
 },
 "nbformat": 4,
 "nbformat_minor": 4
}
