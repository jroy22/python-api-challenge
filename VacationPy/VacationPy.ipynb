{
 "cells": [
  {
   "cell_type": "markdown",
   "metadata": {},
   "source": [
    "## VacationPy"
   ]
  },
  {
   "cell_type": "code",
   "execution_count": 6,
   "metadata": {},
   "outputs": [],
   "source": [
    "# Dependencies and Setup\n",
    "import matplotlib.pyplot as plt\n",
    "import pandas as pd\n",
    "import numpy as np\n",
    "import requests\n",
    "import gmaps\n",
    "import os\n",
    "\n",
    "# Import API key\n",
    "from config import g_key"
   ]
  },
  {
   "cell_type": "code",
   "execution_count": 13,
   "metadata": {},
   "outputs": [
    {
     "data": {
      "text/html": [
       "<div>\n",
       "<style scoped>\n",
       "    .dataframe tbody tr th:only-of-type {\n",
       "        vertical-align: middle;\n",
       "    }\n",
       "\n",
       "    .dataframe tbody tr th {\n",
       "        vertical-align: top;\n",
       "    }\n",
       "\n",
       "    .dataframe thead th {\n",
       "        text-align: right;\n",
       "    }\n",
       "</style>\n",
       "<table border=\"1\" class=\"dataframe\">\n",
       "  <thead>\n",
       "    <tr style=\"text-align: right;\">\n",
       "      <th></th>\n",
       "      <th>Unnamed: 0</th>\n",
       "      <th>City</th>\n",
       "      <th>Lat</th>\n",
       "      <th>Lng</th>\n",
       "      <th>Max Temp</th>\n",
       "      <th>Humidity</th>\n",
       "      <th>Cloudiness</th>\n",
       "      <th>Wind Speed</th>\n",
       "      <th>Country</th>\n",
       "      <th>Date</th>\n",
       "    </tr>\n",
       "  </thead>\n",
       "  <tbody>\n",
       "    <tr>\n",
       "      <th>0</th>\n",
       "      <td>0</td>\n",
       "      <td>Zheleznodorozhnyy</td>\n",
       "      <td>55.7503</td>\n",
       "      <td>38.0042</td>\n",
       "      <td>6.80</td>\n",
       "      <td>78</td>\n",
       "      <td>90</td>\n",
       "      <td>15.66</td>\n",
       "      <td>RU</td>\n",
       "      <td>1613178286</td>\n",
       "    </tr>\n",
       "    <tr>\n",
       "      <th>1</th>\n",
       "      <td>1</td>\n",
       "      <td>São João da Barra</td>\n",
       "      <td>-21.6403</td>\n",
       "      <td>-41.0511</td>\n",
       "      <td>77.41</td>\n",
       "      <td>82</td>\n",
       "      <td>100</td>\n",
       "      <td>14.63</td>\n",
       "      <td>BR</td>\n",
       "      <td>1613178287</td>\n",
       "    </tr>\n",
       "    <tr>\n",
       "      <th>2</th>\n",
       "      <td>2</td>\n",
       "      <td>Hilo</td>\n",
       "      <td>19.7297</td>\n",
       "      <td>-155.0900</td>\n",
       "      <td>82.40</td>\n",
       "      <td>51</td>\n",
       "      <td>20</td>\n",
       "      <td>5.75</td>\n",
       "      <td>US</td>\n",
       "      <td>1613178287</td>\n",
       "    </tr>\n",
       "    <tr>\n",
       "      <th>3</th>\n",
       "      <td>3</td>\n",
       "      <td>Rikitea</td>\n",
       "      <td>-23.1203</td>\n",
       "      <td>-134.9692</td>\n",
       "      <td>80.53</td>\n",
       "      <td>72</td>\n",
       "      <td>26</td>\n",
       "      <td>10.11</td>\n",
       "      <td>PF</td>\n",
       "      <td>1613178287</td>\n",
       "    </tr>\n",
       "    <tr>\n",
       "      <th>4</th>\n",
       "      <td>4</td>\n",
       "      <td>Ponta do Sol</td>\n",
       "      <td>32.6667</td>\n",
       "      <td>-17.1000</td>\n",
       "      <td>57.00</td>\n",
       "      <td>74</td>\n",
       "      <td>0</td>\n",
       "      <td>5.01</td>\n",
       "      <td>PT</td>\n",
       "      <td>1613178287</td>\n",
       "    </tr>\n",
       "  </tbody>\n",
       "</table>\n",
       "</div>"
      ],
      "text/plain": [
       "   Unnamed: 0               City      Lat       Lng  Max Temp  Humidity  \\\n",
       "0           0  Zheleznodorozhnyy  55.7503   38.0042      6.80        78   \n",
       "1           1  São João da Barra -21.6403  -41.0511     77.41        82   \n",
       "2           2               Hilo  19.7297 -155.0900     82.40        51   \n",
       "3           3            Rikitea -23.1203 -134.9692     80.53        72   \n",
       "4           4       Ponta do Sol  32.6667  -17.1000     57.00        74   \n",
       "\n",
       "   Cloudiness  Wind Speed Country        Date  \n",
       "0          90       15.66      RU  1613178286  \n",
       "1         100       14.63      BR  1613178287  \n",
       "2          20        5.75      US  1613178287  \n",
       "3          26       10.11      PF  1613178287  \n",
       "4           0        5.01      PT  1613178287  "
      ]
     },
     "execution_count": 13,
     "metadata": {},
     "output_type": "execute_result"
    }
   ],
   "source": [
    "weather_csv = pd.read_csv(\"../WeatherPy/Output/cities.csv\")\n",
    "weather_csv.head()"
   ]
  },
  {
   "cell_type": "markdown",
   "metadata": {},
   "source": [
    "## Humidity Heatmap"
   ]
  },
  {
   "cell_type": "code",
   "execution_count": 10,
   "metadata": {},
   "outputs": [],
   "source": [
    "# Configure gmaps with API key\n",
    "gmaps.configure(api_key=g_key)"
   ]
  },
  {
   "cell_type": "code",
   "execution_count": 16,
   "metadata": {},
   "outputs": [],
   "source": [
    "# Store 'Lat' and 'Lng' into  locations \n",
    "locations = weather_csv[[\"Lat\", \"Lng\"]]\n",
    "\n",
    "humidity = weather_csv[\"Humidity\"]"
   ]
  },
  {
   "cell_type": "code",
   "execution_count": 42,
   "metadata": {},
   "outputs": [
    {
     "data": {
      "application/vnd.jupyter.widget-view+json": {
       "model_id": "fe571a2cfe964f498c3d5ce57a0cbb83",
       "version_major": 2,
       "version_minor": 0
      },
      "text/plain": [
       "Figure(layout=FigureLayout(height='420px'))"
      ]
     },
     "metadata": {},
     "output_type": "display_data"
    }
   ],
   "source": [
    "# Create a humidity Heatmap layer\n",
    "weather_heatmap = gmaps.figure(center=(0,0), zoom_level = 1.5)\n",
    "\n",
    "humidity_layer = gmaps.heatmap_layer(locations, weights= humidity, \n",
    "                                 dissipating= False, max_intensity=100,\n",
    "                                 point_radius = 100)\n",
    "\n",
    "weather_heatmap.add_layer(heat_layer)\n",
    "\n",
    "weather_heatmap"
   ]
  },
  {
   "cell_type": "code",
   "execution_count": null,
   "metadata": {},
   "outputs": [],
   "source": []
  }
 ],
 "metadata": {
  "kernelspec": {
   "display_name": "Python 3",
   "language": "python",
   "name": "python3"
  },
  "language_info": {
   "codemirror_mode": {
    "name": "ipython",
    "version": 3
   },
   "file_extension": ".py",
   "mimetype": "text/x-python",
   "name": "python",
   "nbconvert_exporter": "python",
   "pygments_lexer": "ipython3",
   "version": "3.6.10"
  }
 },
 "nbformat": 4,
 "nbformat_minor": 4
}
